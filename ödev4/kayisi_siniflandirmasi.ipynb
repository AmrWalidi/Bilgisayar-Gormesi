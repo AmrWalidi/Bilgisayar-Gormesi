{
 "cells": [
  {
   "cell_type": "code",
   "id": "initial_id",
   "metadata": {
    "collapsed": true
   },
   "source": [
    "from ultralytics import YOLO\n",
    "from roboflow import Roboflow"
   ],
   "outputs": [],
   "execution_count": null
  },
  {
   "metadata": {},
   "cell_type": "code",
   "source": "model = YOLO('yolov8n.pt')",
   "id": "fe22a7c4586f0182",
   "outputs": [],
   "execution_count": null
  },
  {
   "metadata": {},
   "cell_type": "code",
   "source": [
    "rf = Roboflow(api_key=\"zGjCRPBrA5e9YQJSr5vo\")\n",
    "project = rf.workspace(\"computer-vision-cuvyr\").project(\"kayisi-siniflandirma\")\n",
    "version = project.version(2)\n",
    "dataset = version.download(\"yolov8\")               "
   ],
   "id": "ad347ac5c1ec3ecf",
   "outputs": [],
   "execution_count": null
  },
  {
   "metadata": {},
   "cell_type": "code",
   "source": "model.train(data=f\"{dataset.location}/data.yaml\", epochs=50)",
   "id": "dcec48b85bc5abee",
   "outputs": [],
   "execution_count": null
  },
  {
   "metadata": {
    "ExecuteTime": {
     "end_time": "2024-11-09T11:55:30.322771Z",
     "start_time": "2024-11-09T11:55:30.107652Z"
    }
   },
   "cell_type": "code",
   "source": "model = YOLO('runs/detect/train/weights/best.pt')",
   "id": "c5c9ea36648229cc",
   "outputs": [],
   "execution_count": 12
  },
  {
   "metadata": {
    "ExecuteTime": {
     "end_time": "2024-11-09T11:58:22.337608Z",
     "start_time": "2024-11-09T11:58:22.317565Z"
    }
   },
   "cell_type": "code",
   "source": "test_images_folder = \"Kayısı-Sınıflandırma-2/test/images\"",
   "id": "4b41720f6be034bb",
   "outputs": [],
   "execution_count": 17
  },
  {
   "metadata": {
    "ExecuteTime": {
     "end_time": "2024-11-09T11:58:23.773066Z",
     "start_time": "2024-11-09T11:58:23.748067Z"
    }
   },
   "cell_type": "code",
   "source": [
    "import os\n",
    "results_folder = \"results\"\n",
    "os.makedirs(results_folder, exist_ok=True)"
   ],
   "id": "a55d730d552adb70",
   "outputs": [],
   "execution_count": 18
  },
  {
   "metadata": {},
   "cell_type": "code",
   "source": [
    "for idx, image_file in enumerate(os.listdir(test_images_folder), start=1):\n",
    "    image_path = os.path.join(test_images_folder, image_file)\n",
    "\n",
    "    results = model.predict(source=image_path, conf=0.45, iou=0.45)\n",
    "\n",
    "    results[0].save(os.path.join(results_folder, f\"prediction_{idx}.jpg\"))\n",
    "    print(f\"Processed {image_file} - Results saved as prediction_{idx}.jpg in 'results' folder\")"
   ],
   "id": "75946ff601ec7056",
   "outputs": [],
   "execution_count": null
  }
 ],
 "metadata": {
  "kernelspec": {
   "display_name": "Python 3",
   "language": "python",
   "name": "python3"
  },
  "language_info": {
   "codemirror_mode": {
    "name": "ipython",
    "version": 2
   },
   "file_extension": ".py",
   "mimetype": "text/x-python",
   "name": "python",
   "nbconvert_exporter": "python",
   "pygments_lexer": "ipython2",
   "version": "2.7.6"
  }
 },
 "nbformat": 4,
 "nbformat_minor": 5
}
