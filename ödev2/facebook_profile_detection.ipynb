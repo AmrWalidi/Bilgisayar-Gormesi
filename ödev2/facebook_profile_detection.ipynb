{
 "cells": [
  {
   "cell_type": "code",
   "id": "initial_id",
   "metadata": {
    "collapsed": true,
    "ExecuteTime": {
     "end_time": "2024-10-23T12:10:58.652838Z",
     "start_time": "2024-10-23T12:10:58.642170Z"
    }
   },
   "source": [
    "import numpy as np\n",
    "from ultralytics import YOLO\n",
    "import pandas as pd\n",
    "import requests\n",
    "from bs4 import BeautifulSoup"
   ],
   "outputs": [],
   "execution_count": 155
  },
  {
   "metadata": {
    "ExecuteTime": {
     "end_time": "2024-10-23T12:10:58.760389Z",
     "start_time": "2024-10-23T12:10:58.665949Z"
    }
   },
   "cell_type": "code",
   "source": "model = YOLO('yolov8n.pt')",
   "id": "b004d0f93483e4c0",
   "outputs": [],
   "execution_count": 156
  },
  {
   "metadata": {
    "ExecuteTime": {
     "end_time": "2024-10-23T12:10:58.839340Z",
     "start_time": "2024-10-23T12:10:58.826599Z"
    }
   },
   "cell_type": "code",
   "source": "profile_url = pd.read_csv('data/facebook profile.csv')",
   "id": "a71bb71bd26fb4f2",
   "outputs": [],
   "execution_count": 157
  },
  {
   "metadata": {
    "ExecuteTime": {
     "end_time": "2024-10-23T12:11:06.551341Z",
     "start_time": "2024-10-23T12:10:58.907177Z"
    }
   },
   "cell_type": "code",
   "source": "raw_html = [requests.get(x).text for x in profile_url['website_url']]",
   "id": "ec7e4a597f603ccd",
   "outputs": [],
   "execution_count": 158
  },
  {
   "metadata": {
    "ExecuteTime": {
     "end_time": "2024-10-23T12:11:06.787180Z",
     "start_time": "2024-10-23T12:11:06.654094Z"
    }
   },
   "cell_type": "code",
   "source": "parsed_html = [BeautifulSoup(x, 'html.parser') for x in raw_html]",
   "id": "bd8adeb9f167f72d",
   "outputs": [],
   "execution_count": 159
  },
  {
   "metadata": {
    "ExecuteTime": {
     "end_time": "2024-10-23T12:11:06.934021Z",
     "start_time": "2024-10-23T12:11:06.892085Z"
    }
   },
   "cell_type": "code",
   "source": "image_list = [x.find('meta', {'property': 'og:image'}).attrs['content'] for x in parsed_html]",
   "id": "a49e1bac9ca09f77",
   "outputs": [],
   "execution_count": 160
  },
  {
   "metadata": {
    "ExecuteTime": {
     "end_time": "2024-10-23T12:11:09.512599Z",
     "start_time": "2024-10-23T12:11:06.999187Z"
    }
   },
   "cell_type": "code",
   "source": [
    "for i, image in enumerate(image_list):\n",
    "    response = requests.get(image)\n",
    "    with open(f'images/image{i + 1}.jpg', 'wb') as file:\n",
    "        file.write(response.content)"
   ],
   "id": "e677893330f66637",
   "outputs": [],
   "execution_count": 161
  },
  {
   "metadata": {
    "ExecuteTime": {
     "end_time": "2024-10-23T12:11:12.448543Z",
     "start_time": "2024-10-23T12:11:09.649344Z"
    }
   },
   "cell_type": "code",
   "source": [
    "import os\n",
    "\n",
    "images = os.listdir('images')\n",
    "\n",
    "for i, image in enumerate(images):\n",
    "    result = model(f'images/{image}' , save=True)"
   ],
   "id": "830254945e7d5d2f",
   "outputs": [
    {
     "name": "stdout",
     "output_type": "stream",
     "text": [
      "\n",
      "image 1/1 C:\\Users\\HP\\PycharmProjects\\Facebook Profile Detection\\images\\image1.jpg: 640x640 1 person, 213.6ms\n",
      "Speed: 5.2ms preprocess, 213.6ms inference, 0.0ms postprocess per image at shape (1, 3, 640, 640)\n",
      "Results saved to \u001B[1mruns\\detect\\predict\u001B[0m\n",
      "\n",
      "image 1/1 C:\\Users\\HP\\PycharmProjects\\Facebook Profile Detection\\images\\image10.jpg: 640x640 1 person, 1 umbrella, 198.0ms\n",
      "Speed: 20.9ms preprocess, 198.0ms inference, 3.0ms postprocess per image at shape (1, 3, 640, 640)\n",
      "Results saved to \u001B[1mruns\\detect\\predict\u001B[0m\n",
      "\n",
      "image 1/1 C:\\Users\\HP\\PycharmProjects\\Facebook Profile Detection\\images\\image2.jpg: 640x640 1 person, 201.3ms\n",
      "Speed: 15.7ms preprocess, 201.3ms inference, 5.9ms postprocess per image at shape (1, 3, 640, 640)\n",
      "Results saved to \u001B[1mruns\\detect\\predict\u001B[0m\n",
      "\n",
      "image 1/1 C:\\Users\\HP\\PycharmProjects\\Facebook Profile Detection\\images\\image3.jpg: 640x640 1 person, 4 cars, 228.1ms\n",
      "Speed: 10.8ms preprocess, 228.1ms inference, 7.6ms postprocess per image at shape (1, 3, 640, 640)\n",
      "Results saved to \u001B[1mruns\\detect\\predict\u001B[0m\n",
      "\n",
      "image 1/1 C:\\Users\\HP\\PycharmProjects\\Facebook Profile Detection\\images\\image4.jpg: 640x640 1 person, 214.2ms\n",
      "Speed: 1.0ms preprocess, 214.2ms inference, 0.0ms postprocess per image at shape (1, 3, 640, 640)\n",
      "Results saved to \u001B[1mruns\\detect\\predict\u001B[0m\n",
      "\n",
      "image 1/1 C:\\Users\\HP\\PycharmProjects\\Facebook Profile Detection\\images\\image5.jpg: 640x640 1 potted plant, 196.1ms\n",
      "Speed: 0.0ms preprocess, 196.1ms inference, 0.0ms postprocess per image at shape (1, 3, 640, 640)\n",
      "Results saved to \u001B[1mruns\\detect\\predict\u001B[0m\n",
      "\n",
      "image 1/1 C:\\Users\\HP\\PycharmProjects\\Facebook Profile Detection\\images\\image6.jpg: 640x640 5 persons, 1 frisbee, 217.0ms\n",
      "Speed: 0.0ms preprocess, 217.0ms inference, 0.0ms postprocess per image at shape (1, 3, 640, 640)\n",
      "Results saved to \u001B[1mruns\\detect\\predict\u001B[0m\n",
      "\n",
      "image 1/1 C:\\Users\\HP\\PycharmProjects\\Facebook Profile Detection\\images\\image7.jpg: 640x640 1 person, 185.4ms\n",
      "Speed: 7.3ms preprocess, 185.4ms inference, 12.7ms postprocess per image at shape (1, 3, 640, 640)\n",
      "Results saved to \u001B[1mruns\\detect\\predict\u001B[0m\n",
      "\n",
      "image 1/1 C:\\Users\\HP\\PycharmProjects\\Facebook Profile Detection\\images\\image8.jpg: 640x640 1 person, 239.3ms\n",
      "Speed: 16.8ms preprocess, 239.3ms inference, 0.0ms postprocess per image at shape (1, 3, 640, 640)\n",
      "Results saved to \u001B[1mruns\\detect\\predict\u001B[0m\n",
      "\n",
      "image 1/1 C:\\Users\\HP\\PycharmProjects\\Facebook Profile Detection\\images\\image9.jpg: 480x640 1 cat, 1 dog, 186.6ms\n",
      "Speed: 0.0ms preprocess, 186.6ms inference, 0.0ms postprocess per image at shape (1, 3, 480, 640)\n",
      "Results saved to \u001B[1mruns\\detect\\predict\u001B[0m\n"
     ]
    }
   ],
   "execution_count": 162
  }
 ],
 "metadata": {
  "kernelspec": {
   "display_name": "Python 3",
   "language": "python",
   "name": "python3"
  },
  "language_info": {
   "codemirror_mode": {
    "name": "ipython",
    "version": 2
   },
   "file_extension": ".py",
   "mimetype": "text/x-python",
   "name": "python",
   "nbconvert_exporter": "python",
   "pygments_lexer": "ipython2",
   "version": "2.7.6"
  }
 },
 "nbformat": 4,
 "nbformat_minor": 5
}
